{
 "cells": [
  {
   "cell_type": "code",
   "execution_count": 1,
   "id": "00624266-1743-4267-b882-e3746c093a3b",
   "metadata": {},
   "outputs": [],
   "source": [
    "load('g2_motives.sage')"
   ]
  },
  {
   "cell_type": "code",
   "execution_count": 2,
   "id": "67aed075-dabf-488b-acbb-1013ec6462ad",
   "metadata": {},
   "outputs": [],
   "source": [
    "#in this file, we give examples of theta lifting to split G2\n",
    "#specifically, we verify the claims made about such lifts in the \"G2 computations\" paper"
   ]
  },
  {
   "cell_type": "code",
   "execution_count": 3,
   "id": "ee8b6e0a-d10a-41f7-83a7-514bb512ed4e",
   "metadata": {},
   "outputs": [
    {
     "name": "stdout",
     "output_type": "stream",
     "text": [
      "PARI stack size set to 40737418240 bytes, maximum size set to 40737423360\n"
     ]
    }
   ],
   "source": [
    "pari.allocatemem(40737418240)"
   ]
  },
  {
   "cell_type": "code",
   "execution_count": 4,
   "id": "e080f514-0406-424a-90aa-506bce0bc8c1",
   "metadata": {},
   "outputs": [],
   "source": [
    "n=5 #this parameter dictates how many Fourier coefficients we will compute"
   ]
  },
  {
   "cell_type": "code",
   "execution_count": 5,
   "id": "b848afc7-f98e-4a54-acb9-f88c1a45469e",
   "metadata": {},
   "outputs": [
    {
     "name": "stdout",
     "output_type": "stream",
     "text": [
      "CPU times: user 23.5 s, sys: 759 ms, total: 24.3 s\n",
      "Wall time: 24.4 s\n"
     ]
    }
   ],
   "source": [
    "%time short_vecs=J_E_2.short_vector_list_up_to_length(n+1, up_to_sign_flag=False)"
   ]
  },
  {
   "cell_type": "code",
   "execution_count": 6,
   "id": "93b33a0e-ef0a-4e4a-96cc-1bd1014f16f4",
   "metadata": {},
   "outputs": [],
   "source": [
    "all_short_vecs=flatten(short_vecs,max_level=1)"
   ]
  },
  {
   "cell_type": "code",
   "execution_count": 7,
   "id": "85a4e37c-71a3-4def-8383-c57fee275682",
   "metadata": {},
   "outputs": [
    {
     "data": {
      "text/plain": [
       "1618815"
      ]
     },
     "execution_count": 7,
     "metadata": {},
     "output_type": "execute_result"
    }
   ],
   "source": [
    "len(all_short_vecs)"
   ]
  },
  {
   "cell_type": "code",
   "execution_count": 9,
   "id": "3094b8bd-5f27-4a4e-b552-ae2ec74ea59a",
   "metadata": {},
   "outputs": [
    {
     "data": {
      "text/plain": [
       "{(0, -2, -1): (0),\n",
       " (0, -2, 0): (0),\n",
       " (0, -2, 1): (0),\n",
       " (0, -1, 0): (0),\n",
       " (1, -2, -2): (0),\n",
       " (1, -2, -1): (0),\n",
       " (1, -2, 0): (0),\n",
       " (1, -1, 0): (0)}"
      ]
     },
     "execution_count": 9,
     "metadata": {},
     "output_type": "execute_result"
    }
   ],
   "source": [
    "initialize_dict4(n,1) \n",
    "#this will show us in advance which triples (b,c,d) we will compute Fourier coefficients for"
   ]
  },
  {
   "cell_type": "code",
   "execution_count": 10,
   "id": "da376c4b-be04-4397-93e2-eba26dc5858c",
   "metadata": {},
   "outputs": [],
   "source": [
    "#thus to compute Fourier coefficients for the 8 binary cubics above\n",
    "#we will need to use about 1.6 million elements T in J_R"
   ]
  },
  {
   "cell_type": "code",
   "execution_count": 11,
   "id": "ffecd8c1-85aa-4cd0-8f06-99573cef464e",
   "metadata": {},
   "outputs": [
    {
     "name": "stdout",
     "output_type": "stream",
     "text": [
      "CPU times: user 30.6 s, sys: 399 ms, total: 31 s\n",
      "Wall time: 31.1 s\n"
     ]
    }
   ],
   "source": [
    "%time my_splitting_dictionary=vec_list_to_dict2(all_short_vecs)"
   ]
  },
  {
   "cell_type": "code",
   "execution_count": 12,
   "id": "7fe0066f-ba4d-4d03-9864-1a5c5d363fa9",
   "metadata": {},
   "outputs": [],
   "source": [
    "X1_E,Y1_E=list_to_oct_pair_E([1,1,-1],[],[-2,1],Xoct,Yoct) \n",
    "#I just typed in some random-ish lists of length at most 8,\n",
    "#to give me a random-ish singular pair"
   ]
  },
  {
   "cell_type": "code",
   "execution_count": 13,
   "id": "5feff53b-06e3-4ada-8251-41510dca07fc",
   "metadata": {},
   "outputs": [
    {
     "name": "stdout",
     "output_type": "stream",
     "text": [
      "CPU times: user 6min 34s, sys: 2.19 s, total: 6min 36s\n",
      "Wall time: 6min 36s\n"
     ]
    },
    {
     "data": {
      "text/plain": [
       "{(0, -2, -1): (0, 0, 0, 0),\n",
       " (0, -2, 0): (0, 0, 0, 0),\n",
       " (0, -2, 1): (0, 0, 0, 0),\n",
       " (0, -1, 0): (0, 0, 0, 0),\n",
       " (1, -2, -2): (0, 0, 0, 0),\n",
       " (1,\n",
       "  -2,\n",
       "  -1): (0, 0, -54182510828775/256*t + 2462914684125/32, 846359765655833835/32768*t + 24231898811060229555/65536),\n",
       " (1, -2, 0): (0, 0, 0, 0),\n",
       " (1, -1, 0): (0, 0, 0, 0)}"
      ]
     },
     "execution_count": 13,
     "metadata": {},
     "output_type": "execute_result"
    }
   ],
   "source": [
    "%time G2_FC_dict_E(my_splitting_dictionary,X1_E,Y1_E,n,[1,3,5,7])\n",
    "#G2_FC_dict_E is the main function for computing Fourier coefficients of lifts for F4c-G2\n",
    "#we did some necessary precomputation above using the function vec_list_to_dict2\n",
    "#the list [1,3,5,7] corresponds to modular form of weight [5,7,9,11] (I added 4 to each entry)\n",
    "#so the function will compute Fourier coefficients of some random-ish cusp forms on G2 of these weights"
   ]
  },
  {
   "cell_type": "code",
   "execution_count": 14,
   "id": "a5f265b0-3830-44ab-838f-5cb661aa945c",
   "metadata": {},
   "outputs": [],
   "source": [
    "#the above computation proves that the Theta_E cusp form is nonzero for some X_E,Y_E in weights 9 and 11"
   ]
  },
  {
   "cell_type": "code",
   "execution_count": null,
   "id": "6fa85aa5-cc37-4e19-a19c-37192faba600",
   "metadata": {},
   "outputs": [],
   "source": []
  }
 ],
 "metadata": {
  "kernelspec": {
   "display_name": "SageMath 9.7",
   "language": "sage",
   "name": "sagemath-9.7"
  },
  "language_info": {
   "codemirror_mode": {
    "name": "ipython",
    "version": 3
   },
   "file_extension": ".py",
   "mimetype": "text/x-python",
   "name": "python",
   "nbconvert_exporter": "python",
   "pygments_lexer": "ipython3",
   "version": "3.10.5"
  }
 },
 "nbformat": 4,
 "nbformat_minor": 5
}
