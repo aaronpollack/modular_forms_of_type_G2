{
 "cells": [
  {
   "cell_type": "code",
   "execution_count": 1,
   "id": "1fcacc94-cb05-423c-816b-7886e54a8513",
   "metadata": {},
   "outputs": [],
   "source": [
    "load('g2_motives.sage')"
   ]
  },
  {
   "cell_type": "code",
   "execution_count": 2,
   "id": "9de84463-a860-4de3-ab94-b5d8571d8d5d",
   "metadata": {},
   "outputs": [],
   "source": [
    "#in this file, we give an example of using the G2^c-Sp(6) lift\n",
    "#we also verify the claims about such G2 lifts made in the \"G2 computations\" paper"
   ]
  },
  {
   "cell_type": "code",
   "execution_count": 3,
   "id": "c49cb735-e334-4f7f-a444-3f78a92dc40c",
   "metadata": {},
   "outputs": [],
   "source": [
    "#Tsplit_list=make_T_list_a1_vecs_split([1,b,c,d,e,f])\n",
    "#a_Sp6_g_FC(Tsplit_list,k1,k2,[r1,r2,r3,r4,r5,r6]).expand()"
   ]
  },
  {
   "cell_type": "code",
   "execution_count": 5,
   "id": "8d44581a-3fc5-41bc-a612-26db5f851fdb",
   "metadata": {},
   "outputs": [
    {
     "name": "stdout",
     "output_type": "stream",
     "text": [
      "CPU times: user 601 ms, sys: 8.9 ms, total: 610 ms\n",
      "Wall time: 609 ms\n"
     ]
    }
   ],
   "source": [
    "%time Tsplit_list=make_T_list_a1_vecs_split([1,1,1,1,1,1])"
   ]
  },
  {
   "cell_type": "code",
   "execution_count": 6,
   "id": "8d3bfd91-27fc-4182-bd9d-61d492173d46",
   "metadata": {},
   "outputs": [
    {
     "data": {
      "text/plain": [
       "1512"
      ]
     },
     "execution_count": 6,
     "metadata": {},
     "output_type": "execute_result"
    }
   ],
   "source": [
    "len(Tsplit_list)"
   ]
  },
  {
   "cell_type": "code",
   "execution_count": 7,
   "id": "d5f289db-5c65-46a4-8543-f70746dab2d9",
   "metadata": {},
   "outputs": [],
   "source": [
    "#thus, there are 1512 rank one T in J_R with projection T0=[1,1,1,1,1,1]"
   ]
  },
  {
   "cell_type": "code",
   "execution_count": 11,
   "id": "075daa9a-cb73-4a2c-b92e-3e7a149c6bb8",
   "metadata": {},
   "outputs": [],
   "source": [
    "def poly_to_coef_list(poly,k1,k2):\n",
    "    #this function converts a homogeneous polynomial to a list of its coefficients\n",
    "    coef_list=[]\n",
    "    for a1 in range(k1+1):\n",
    "        for b1 in range(k1+1-a1):\n",
    "            c1=k1-a1-b1\n",
    "            for a2 in range(k2+1):\n",
    "                for b2 in range(k2+1-a2):\n",
    "                    c2=k2-a2-b2\n",
    "                    temp=poly.coefficient(v1^(a1)*v2^(b1)*v3^(c1)*w1^(a2)*w2^(b2)*w3^(c2))\n",
    "                    coef_list.append(temp)\n",
    "    return coef_list"
   ]
  },
  {
   "cell_type": "code",
   "execution_count": 12,
   "id": "9f39865e-20bf-42bc-b30e-7b447846bccf",
   "metadata": {},
   "outputs": [],
   "source": [
    "def quick_dim(k1,k2):\n",
    "    #this function takes three random-ish null pairs,\n",
    "    #computes the T0=[1,1,1,1,1,1] Fourier coefficient of the weight (k1,k2) lift to Sp6\n",
    "    #then computes the dimension of the span of these Fourier coefficients\n",
    "    #it thus gives a lower bound on the dimension of the space of G2 lifts of a fixed weight\n",
    "    FC1=a_Sp6_g_FC(Tsplit_list,k1,k2,[0,0,0,0,0,0]).expand()\n",
    "    FC2=a_Sp6_g_FC(Tsplit_list,k1,k2,[0,3,0,1,-1,2]).expand()\n",
    "    FC3=a_Sp6_g_FC(Tsplit_list,k1,k2,[1,1,0,-1,0,0]).expand()\n",
    "    clist1=poly_to_coef_list(FC1,k1,k2)\n",
    "    clist2=poly_to_coef_list(FC2,k1,k2)\n",
    "    clist3=poly_to_coef_list(FC3,k1,k2)\n",
    "    M=matrix([clist1,clist2,clist3])\n",
    "    return M.rank()"
   ]
  },
  {
   "cell_type": "code",
   "execution_count": 13,
   "id": "ac369e2a-f738-4ac6-8d24-9eb31b6d1db2",
   "metadata": {},
   "outputs": [
    {
     "name": "stdout",
     "output_type": "stream",
     "text": [
      "CPU times: user 3.66 s, sys: 21.4 ms, total: 3.68 s\n",
      "Wall time: 3.64 s\n"
     ]
    },
    {
     "data": {
      "text/plain": [
       "1"
      ]
     },
     "execution_count": 13,
     "metadata": {},
     "output_type": "execute_result"
    }
   ],
   "source": [
    "%time quick_dim(0,4)"
   ]
  },
  {
   "cell_type": "code",
   "execution_count": 14,
   "id": "62aa1750-bbf4-4443-b1f3-20b65a855466",
   "metadata": {},
   "outputs": [
    {
     "name": "stdout",
     "output_type": "stream",
     "text": [
      "CPU times: user 6.93 s, sys: 80.6 ms, total: 7.01 s\n",
      "Wall time: 6.97 s\n"
     ]
    },
    {
     "data": {
      "text/plain": [
       "1"
      ]
     },
     "execution_count": 14,
     "metadata": {},
     "output_type": "execute_result"
    }
   ],
   "source": [
    "%time quick_dim(2,4)"
   ]
  },
  {
   "cell_type": "code",
   "execution_count": 15,
   "id": "d8c3928c-adb0-4ccb-adb6-341488d6762d",
   "metadata": {},
   "outputs": [
    {
     "name": "stdout",
     "output_type": "stream",
     "text": [
      "CPU times: user 7.18 s, sys: 76.3 ms, total: 7.26 s\n",
      "Wall time: 7.22 s\n"
     ]
    },
    {
     "data": {
      "text/plain": [
       "1"
      ]
     },
     "execution_count": 15,
     "metadata": {},
     "output_type": "execute_result"
    }
   ],
   "source": [
    "%time quick_dim(3,3)"
   ]
  },
  {
   "cell_type": "code",
   "execution_count": 16,
   "id": "2eef95e9-6b42-4e03-ba5e-eb617d1f3fef",
   "metadata": {},
   "outputs": [
    {
     "name": "stdout",
     "output_type": "stream",
     "text": [
      "CPU times: user 4.13 s, sys: 31.5 ms, total: 4.17 s\n",
      "Wall time: 4.13 s\n"
     ]
    },
    {
     "data": {
      "text/plain": [
       "2"
      ]
     },
     "execution_count": 16,
     "metadata": {},
     "output_type": "execute_result"
    }
   ],
   "source": [
    "%time quick_dim(0,6)"
   ]
  },
  {
   "cell_type": "code",
   "execution_count": 17,
   "id": "8ada634c-51a1-4c26-8af5-7a9569f8067d",
   "metadata": {},
   "outputs": [
    {
     "name": "stdout",
     "output_type": "stream",
     "text": [
      "CPU times: user 9.03 s, sys: 98.5 ms, total: 9.13 s\n",
      "Wall time: 9.09 s\n"
     ]
    },
    {
     "data": {
      "text/plain": [
       "1"
      ]
     },
     "execution_count": 17,
     "metadata": {},
     "output_type": "execute_result"
    }
   ],
   "source": [
    "%time quick_dim(3,4)"
   ]
  },
  {
   "cell_type": "code",
   "execution_count": 18,
   "id": "8c1a6682-fb07-401c-878e-1f1f866292a5",
   "metadata": {},
   "outputs": [
    {
     "name": "stdout",
     "output_type": "stream",
     "text": [
      "CPU times: user 10.1 s, sys: 113 ms, total: 10.2 s\n",
      "Wall time: 10.1 s\n"
     ]
    },
    {
     "data": {
      "text/plain": [
       "1"
      ]
     },
     "execution_count": 18,
     "metadata": {},
     "output_type": "execute_result"
    }
   ],
   "source": [
    "%time quick_dim(6,2)"
   ]
  },
  {
   "cell_type": "code",
   "execution_count": 19,
   "id": "55a234ae-7687-4ab2-9686-899123bf7923",
   "metadata": {},
   "outputs": [
    {
     "name": "stdout",
     "output_type": "stream",
     "text": [
      "CPU times: user 11.2 s, sys: 123 ms, total: 11.3 s\n",
      "Wall time: 11.3 s\n"
     ]
    },
    {
     "data": {
      "text/plain": [
       "1"
      ]
     },
     "execution_count": 19,
     "metadata": {},
     "output_type": "execute_result"
    }
   ],
   "source": [
    "%time quick_dim(5,3)"
   ]
  },
  {
   "cell_type": "code",
   "execution_count": 20,
   "id": "12be6d6a-0b3d-4ada-a48e-ab436b571395",
   "metadata": {},
   "outputs": [
    {
     "name": "stdout",
     "output_type": "stream",
     "text": [
      "CPU times: user 11.9 s, sys: 137 ms, total: 12 s\n",
      "Wall time: 12 s\n"
     ]
    },
    {
     "data": {
      "text/plain": [
       "1"
      ]
     },
     "execution_count": 20,
     "metadata": {},
     "output_type": "execute_result"
    }
   ],
   "source": [
    "%time quick_dim(4,4)"
   ]
  },
  {
   "cell_type": "code",
   "execution_count": 21,
   "id": "42b2b5c5-692b-47f7-8944-c153d195cf10",
   "metadata": {},
   "outputs": [
    {
     "name": "stdout",
     "output_type": "stream",
     "text": [
      "CPU times: user 11.9 s, sys: 138 ms, total: 12 s\n",
      "Wall time: 12 s\n"
     ]
    },
    {
     "data": {
      "text/plain": [
       "1"
      ]
     },
     "execution_count": 21,
     "metadata": {},
     "output_type": "execute_result"
    }
   ],
   "source": [
    "%time quick_dim(7,2)"
   ]
  },
  {
   "cell_type": "code",
   "execution_count": 22,
   "id": "c6f6fc94-9e3f-48e2-beed-2565ec21e6a1",
   "metadata": {},
   "outputs": [
    {
     "name": "stdout",
     "output_type": "stream",
     "text": [
      "CPU times: user 12.8 s, sys: 129 ms, total: 13 s\n",
      "Wall time: 12.9 s\n"
     ]
    },
    {
     "data": {
      "text/plain": [
       "1"
      ]
     },
     "execution_count": 22,
     "metadata": {},
     "output_type": "execute_result"
    }
   ],
   "source": [
    "%time quick_dim(9,1)"
   ]
  },
  {
   "cell_type": "code",
   "execution_count": 23,
   "id": "d7eced8a-54de-4019-acca-19f26c760fc6",
   "metadata": {},
   "outputs": [
    {
     "name": "stdout",
     "output_type": "stream",
     "text": [
      "CPU times: user 14 s, sys: 153 ms, total: 14.2 s\n",
      "Wall time: 14.1 s\n"
     ]
    },
    {
     "data": {
      "text/plain": [
       "2"
      ]
     },
     "execution_count": 23,
     "metadata": {},
     "output_type": "execute_result"
    }
   ],
   "source": [
    "%time quick_dim(6,3)"
   ]
  },
  {
   "cell_type": "code",
   "execution_count": 24,
   "id": "4534515a-2bf7-4a7c-9b5d-bb9944b014ee",
   "metadata": {},
   "outputs": [
    {
     "name": "stdout",
     "output_type": "stream",
     "text": [
      "CPU times: user 14.4 s, sys: 167 ms, total: 14.6 s\n",
      "Wall time: 14.5 s\n"
     ]
    },
    {
     "data": {
      "text/plain": [
       "2"
      ]
     },
     "execution_count": 24,
     "metadata": {},
     "output_type": "execute_result"
    }
   ],
   "source": [
    "%time quick_dim(8,2)"
   ]
  },
  {
   "cell_type": "code",
   "execution_count": 25,
   "id": "40743c16-a96b-4248-9908-86dd5e375b36",
   "metadata": {},
   "outputs": [
    {
     "name": "stdout",
     "output_type": "stream",
     "text": [
      "CPU times: user 4.4 s, sys: 29.7 ms, total: 4.43 s\n",
      "Wall time: 4.38 s\n"
     ]
    },
    {
     "data": {
      "text/plain": [
       "0"
      ]
     },
     "execution_count": 25,
     "metadata": {},
     "output_type": "execute_result"
    }
   ],
   "source": [
    "#As explained to us by Chenevier, there is one-dimensional space of G2^c forms of weight (0,7)\n",
    "#however, the Arthur Multiplicity Conjecture predicts that this form should not lift to Sp6\n",
    "#thus, when we lift to Sp6, we had better get 0 for any Fourier coefficient we try to compute\n",
    "\n",
    "%time quick_dim(0,7)"
   ]
  },
  {
   "cell_type": "code",
   "execution_count": null,
   "id": "620cbd32-73da-4aea-9862-875c7f5057fb",
   "metadata": {},
   "outputs": [],
   "source": []
  }
 ],
 "metadata": {
  "kernelspec": {
   "display_name": "SageMath 9.7",
   "language": "sage",
   "name": "sagemath-9.7"
  },
  "language_info": {
   "codemirror_mode": {
    "name": "ipython",
    "version": 3
   },
   "file_extension": ".py",
   "mimetype": "text/x-python",
   "name": "python",
   "nbconvert_exporter": "python",
   "pygments_lexer": "ipython3",
   "version": "3.10.5"
  }
 },
 "nbformat": 4,
 "nbformat_minor": 5
}
