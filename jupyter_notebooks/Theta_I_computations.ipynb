{
 "cells": [
  {
   "cell_type": "code",
   "execution_count": 1,
   "id": "ec55d245-f4c5-4a25-ad56-6a7519d3b8e5",
   "metadata": {},
   "outputs": [],
   "source": [
    "load('g2_motives.sage')"
   ]
  },
  {
   "cell_type": "code",
   "execution_count": 2,
   "id": "36f435b1-ebb0-4e6c-993f-469a9f7b9892",
   "metadata": {},
   "outputs": [],
   "source": [
    "#in this notebook, we show how to use the code to compute Fourier coefficients of the Theta_I cusp forms\n",
    "#in particular, we compute Fourier coefficients of the unique level one cusp form of weight 6"
   ]
  },
  {
   "cell_type": "code",
   "execution_count": 4,
   "id": "f6b4453d-2822-4a5f-a8ee-d89340544b7f",
   "metadata": {},
   "outputs": [
    {
     "name": "stdout",
     "output_type": "stream",
     "text": [
      "CPU times: user 217 ms, sys: 2.74 ms, total: 220 ms\n",
      "Wall time: 220 ms\n"
     ]
    }
   ],
   "source": [
    "X1,Y1=list_to_oct_pair_vec([],[],[],Xoct,Yoct);\n",
    "%time my_coefficient_dict=G2_FC_dict_I(3,[2], X1, Y1)\n",
    "#this will test if the Theta_I lift for X1,Y1 in weight 6\n",
    "#has a nonzero Fourier coefficient of small discriminant"
   ]
  },
  {
   "cell_type": "code",
   "execution_count": 5,
   "id": "0a8fae66-a0b0-45e6-bf54-46bb6581ad8d",
   "metadata": {},
   "outputs": [
    {
     "data": {
      "text/plain": [
       "{(0, -1, 0): (-336), (1, -1, 0): (720)}"
      ]
     },
     "execution_count": 5,
     "metadata": {},
     "output_type": "execute_result"
    }
   ],
   "source": [
    "my_coefficient_dict"
   ]
  },
  {
   "cell_type": "code",
   "execution_count": 6,
   "id": "5d7295ad-d335-4df8-ab4c-db3d362f13f0",
   "metadata": {},
   "outputs": [
    {
     "data": {
      "text/plain": [
       "{(0, -3, -1): (0),\n",
       " (0, -3, 0): (0),\n",
       " (0, -3, 1): (0),\n",
       " (0, -2, -1): (0),\n",
       " (0, -2, 0): (0),\n",
       " (0, -2, 1): (0),\n",
       " (0, -1, 0): (0),\n",
       " (1, -3, -3): (0),\n",
       " (1, -3, -2): (0),\n",
       " (1, -3, -1): (0),\n",
       " (1, -3, 0): (0),\n",
       " (1, -3, 1): (0),\n",
       " (1, -2, -2): (0),\n",
       " (1, -2, -1): (0),\n",
       " (1, -2, 0): (0),\n",
       " (1, -1, 0): (0)}"
      ]
     },
     "execution_count": 6,
     "metadata": {},
     "output_type": "execute_result"
    }
   ],
   "source": [
    "initialize_dict4(7,1)\n",
    "#this will show us how many Fourier coefficients we will compute for the parameter n=7"
   ]
  },
  {
   "cell_type": "code",
   "execution_count": 7,
   "id": "852e61a7-eeac-4fb1-aa81-dbf417ad56a8",
   "metadata": {},
   "outputs": [],
   "source": [
    "#some of the above triples (b,c,d) correspond to binary cubics in the same GL(2,Z) orbit\n",
    "#so there is a bit of redundancy in the computation"
   ]
  },
  {
   "cell_type": "code",
   "execution_count": 8,
   "id": "1dd7879e-5dc9-4309-a577-a041d865ca0f",
   "metadata": {},
   "outputs": [
    {
     "name": "stdout",
     "output_type": "stream",
     "text": [
      "CPU times: user 55min 59s, sys: 7.78 s, total: 56min 7s\n",
      "Wall time: 1h 5min 46s\n"
     ]
    }
   ],
   "source": [
    "%time my_coefficient_dict_7=G2_FC_dict_I(7,[2], X1, Y1)"
   ]
  },
  {
   "cell_type": "code",
   "execution_count": 9,
   "id": "dba40905-1a1b-4847-bd84-a0b59ec37893",
   "metadata": {},
   "outputs": [
    {
     "data": {
      "text/plain": [
       "{(0, -3, -1): (2332800),\n",
       " (0, -3, 0): (77760),\n",
       " (0, -3, 1): (2332800),\n",
       " (0, -2, -1): (720),\n",
       " (0, -2, 0): (80640),\n",
       " (0, -2, 1): (720),\n",
       " (0, -1, 0): (-336),\n",
       " (1, -3, -3): (-483840),\n",
       " (1, -3, -2): (1227600),\n",
       " (1, -3, -1): (1382400),\n",
       " (1, -3, 0): (-71280),\n",
       " (1, -3, 1): (80640),\n",
       " (1, -2, -2): (-1440),\n",
       " (1, -2, -1): (604800),\n",
       " (1, -2, 0): (-3024),\n",
       " (1, -1, 0): (720)}"
      ]
     },
     "execution_count": 9,
     "metadata": {},
     "output_type": "execute_result"
    }
   ],
   "source": [
    "my_coefficient_dict_7"
   ]
  },
  {
   "cell_type": "code",
   "execution_count": 10,
   "id": "eb0f79bc-1438-4b3e-9f08-be242a4b37cd",
   "metadata": {},
   "outputs": [
    {
     "data": {
      "text/plain": [
       "48"
      ]
     },
     "execution_count": 10,
     "metadata": {},
     "output_type": "execute_result"
    }
   ],
   "source": [
    "gcd(336,720)"
   ]
  },
  {
   "cell_type": "code",
   "execution_count": null,
   "id": "cb99ea04-dc33-4bdd-96a6-2519612883e9",
   "metadata": {},
   "outputs": [],
   "source": [
    "#let's scale the Fourier coefficients by 48 to get nicer numbers"
   ]
  },
  {
   "cell_type": "code",
   "execution_count": 11,
   "id": "a8eaeacf-c31c-4400-9d34-0f3df25160db",
   "metadata": {},
   "outputs": [],
   "source": [
    "my_coefficient_dict_7_scaled={}\n",
    "for key in my_coefficient_dict_7:\n",
    "    my_coefficient_dict_7_scaled.update({key:my_coefficient_dict_7[key]/48})"
   ]
  },
  {
   "cell_type": "code",
   "execution_count": 12,
   "id": "6b8eadcc-0e6a-413f-8912-dc0758f2feea",
   "metadata": {},
   "outputs": [
    {
     "data": {
      "text/plain": [
       "{(0, -3, -1): (48600),\n",
       " (0, -3, 0): (1620),\n",
       " (0, -3, 1): (48600),\n",
       " (0, -2, -1): (15),\n",
       " (0, -2, 0): (1680),\n",
       " (0, -2, 1): (15),\n",
       " (0, -1, 0): (-7),\n",
       " (1, -3, -3): (-10080),\n",
       " (1, -3, -2): (25575),\n",
       " (1, -3, -1): (28800),\n",
       " (1, -3, 0): (-1485),\n",
       " (1, -3, 1): (1680),\n",
       " (1, -2, -2): (-30),\n",
       " (1, -2, -1): (12600),\n",
       " (1, -2, 0): (-63),\n",
       " (1, -1, 0): (15)}"
      ]
     },
     "execution_count": 12,
     "metadata": {},
     "output_type": "execute_result"
    }
   ],
   "source": [
    "my_coefficient_dict_7_scaled"
   ]
  },
  {
   "cell_type": "code",
   "execution_count": null,
   "id": "875a1e5f-3f87-48d1-8a74-7702c88038cf",
   "metadata": {},
   "outputs": [],
   "source": []
  }
 ],
 "metadata": {
  "kernelspec": {
   "display_name": "SageMath 9.7",
   "language": "sage",
   "name": "sagemath-9.7"
  },
  "language_info": {
   "codemirror_mode": {
    "name": "ipython",
    "version": 3
   },
   "file_extension": ".py",
   "mimetype": "text/x-python",
   "name": "python",
   "nbconvert_exporter": "python",
   "pygments_lexer": "ipython3",
   "version": "3.10.5"
  }
 },
 "nbformat": 4,
 "nbformat_minor": 5
}
